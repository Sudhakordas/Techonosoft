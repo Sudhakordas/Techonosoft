{
 "cells": [
  {
   "cell_type": "markdown",
   "id": "bfcc480e",
   "metadata": {},
   "source": [
    "# Palindrome Number"
   ]
  },
  {
   "cell_type": "code",
   "execution_count": null,
   "id": "1501514c",
   "metadata": {},
   "outputs": [],
   "source": [
    "input_text = input('Enter your text: ')\n",
    "\n",
    "def palindrome(text):\n",
    "    inverse = text[::-1]    \n",
    "    if text == inverse:\n",
    "        return 'true'\n",
    "    else:\n",
    "        return 'false'\n",
    "\n",
    "palindrome(input_text)"
   ]
  },
  {
   "cell_type": "markdown",
   "id": "6cd32ddf",
   "metadata": {},
   "source": [
    "# Group anagram"
   ]
  },
  {
   "cell_type": "code",
   "execution_count": 17,
   "id": "89a74b4d",
   "metadata": {},
   "outputs": [
    {
     "name": "stdout",
     "output_type": "stream",
     "text": [
      "Sorted word:  aet\n",
      "Sorted word:  aet\n",
      "Sorted word:  ant\n",
      "Sorted word:  aet\n",
      "Sorted word:  ant\n",
      "Sorted word:  abt\n"
     ]
    },
    {
     "ename": "NameError",
     "evalue": "name 'dic' is not defined",
     "output_type": "error",
     "traceback": [
      "\u001b[1;31m---------------------------------------------------------------------------\u001b[0m",
      "\u001b[1;31mNameError\u001b[0m                                 Traceback (most recent call last)",
      "Input \u001b[1;32mIn [17]\u001b[0m, in \u001b[0;36m<cell line: 23>\u001b[1;34m()\u001b[0m\n\u001b[0;32m     20\u001b[0m     \u001b[38;5;28;01mreturn\u001b[39;00m gp_ana, dic\n\u001b[0;32m     22\u001b[0m word_list \u001b[38;5;241m=\u001b[39m [\u001b[38;5;124m'\u001b[39m\u001b[38;5;124meat\u001b[39m\u001b[38;5;124m'\u001b[39m, \u001b[38;5;124m'\u001b[39m\u001b[38;5;124mtea\u001b[39m\u001b[38;5;124m'\u001b[39m, \u001b[38;5;124m'\u001b[39m\u001b[38;5;124mtan\u001b[39m\u001b[38;5;124m'\u001b[39m, \u001b[38;5;124m'\u001b[39m\u001b[38;5;124mate\u001b[39m\u001b[38;5;124m'\u001b[39m, \u001b[38;5;124m'\u001b[39m\u001b[38;5;124mnat\u001b[39m\u001b[38;5;124m'\u001b[39m, \u001b[38;5;124m'\u001b[39m\u001b[38;5;124mbat\u001b[39m\u001b[38;5;124m'\u001b[39m]\n\u001b[1;32m---> 23\u001b[0m \u001b[43mgroupAnagrams\u001b[49m\u001b[43m(\u001b[49m\u001b[43mword_list\u001b[49m\u001b[43m)\u001b[49m\n",
      "Input \u001b[1;32mIn [17]\u001b[0m, in \u001b[0;36mgroupAnagrams\u001b[1;34m(word_list)\u001b[0m\n\u001b[0;32m     17\u001b[0m \u001b[38;5;28;01mfor\u001b[39;00m items \u001b[38;5;129;01min\u001b[39;00m dictionary\u001b[38;5;241m.\u001b[39mvalues():\n\u001b[0;32m     18\u001b[0m     gp_ana\u001b[38;5;241m.\u001b[39mappend(items)\n\u001b[1;32m---> 20\u001b[0m \u001b[38;5;28;01mreturn\u001b[39;00m gp_ana, \u001b[43mdic\u001b[49m\n",
      "\u001b[1;31mNameError\u001b[0m: name 'dic' is not defined"
     ]
    }
   ],
   "source": [
    "# word_list = input('Enter your list of words: ')\n",
    "\n",
    "def groupAnagrams(word_list):\n",
    "    dictionary = {}\n",
    "    for word in word_list:\n",
    "        #sorting the word \n",
    "        sorted_word = ''.join(sorted(word))\n",
    "        print('Sorted word: ', sorted_word)\n",
    "        if sorted_word  not in dictionary:\n",
    "            dictionary[sorted_word] = [word]\n",
    "\n",
    "        else:\n",
    "            dictionary[sorted_word].append(word)\n",
    "\n",
    "    gp_ana = []\n",
    "\n",
    "    for items in dictionary.values():\n",
    "        gp_ana.append(items)\n",
    "        \n",
    "    return gp_ana, dic\n",
    "\n",
    "word_list = ['eat', 'tea', 'tan', 'ate', 'nat', 'bat']\n",
    "groupAnagrams(word_list)"
   ]
  },
  {
   "cell_type": "code",
   "execution_count": null,
   "id": "5a69fbe1",
   "metadata": {},
   "outputs": [],
   "source": []
  }
 ],
 "metadata": {
  "kernelspec": {
   "display_name": "Python 3 (ipykernel)",
   "language": "python",
   "name": "python3"
  },
  "language_info": {
   "codemirror_mode": {
    "name": "ipython",
    "version": 3
   },
   "file_extension": ".py",
   "mimetype": "text/x-python",
   "name": "python",
   "nbconvert_exporter": "python",
   "pygments_lexer": "ipython3",
   "version": "3.9.12"
  }
 },
 "nbformat": 4,
 "nbformat_minor": 5
}
