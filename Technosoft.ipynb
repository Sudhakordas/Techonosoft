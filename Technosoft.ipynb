{
 "cells": [
  {
   "cell_type": "markdown",
   "id": "256b2717",
   "metadata": {},
   "source": [
    "# Palindrome Number"
   ]
  },
  {
   "cell_type": "code",
   "execution_count": 24,
   "id": "23d5beb7",
   "metadata": {},
   "outputs": [
    {
     "name": "stdout",
     "output_type": "stream",
     "text": [
      "Enter your text: aba\n"
     ]
    },
    {
     "data": {
      "text/plain": [
       "'true'"
      ]
     },
     "execution_count": 24,
     "metadata": {},
     "output_type": "execute_result"
    }
   ],
   "source": [
    "input_text = input('Enter your text: ')\n",
    "\n",
    "def palindrome(text):\n",
    "    inverse = text[::-1]    \n",
    "    if text == inverse:\n",
    "        return 'true'\n",
    "    else:\n",
    "        return 'false'\n",
    "\n",
    "palindrome(input_text)"
   ]
  },
  {
   "cell_type": "markdown",
   "id": "d02df3b4",
   "metadata": {},
   "source": [
    "# Group anagram"
   ]
  },
  {
   "cell_type": "code",
   "execution_count": 25,
   "id": "700e8abd",
   "metadata": {},
   "outputs": [
    {
     "name": "stdout",
     "output_type": "stream",
     "text": [
      "Sorted word:  aet\n",
      "Sorted word:  aet\n",
      "Sorted word:  ant\n",
      "Sorted word:  aet\n",
      "Sorted word:  ant\n",
      "Sorted word:  abt\n"
     ]
    },
    {
     "data": {
      "text/plain": [
       "[['eat', 'tea', 'ate'], ['tan', 'nat'], ['bat']]"
      ]
     },
     "execution_count": 25,
     "metadata": {},
     "output_type": "execute_result"
    }
   ],
   "source": [
    "# word_list = input('Enter your list of words: ')\n",
    "\n",
    "def groupAnagrams(word_list):\n",
    "    dictionary = {}\n",
    "    for word in word_list:\n",
    "        #sorting the word \n",
    "        sorted_word = ''.join(sorted(word))\n",
    "        print('Sorted word: ', sorted_word)\n",
    "        if sorted_word  not in dictionary:\n",
    "            dictionary[sorted_word] = [word]\n",
    "\n",
    "        else:\n",
    "            dictionary[sorted_word].append(word)\n",
    "\n",
    "    gp_ana = []\n",
    "\n",
    "    for items in dictionary.values():\n",
    "        gp_ana.append(items)\n",
    "        \n",
    "    return gp_ana\n",
    "\n",
    "word_list = ['eat', 'tea', 'tan', 'ate', 'nat', 'bat']\n",
    "groupAnagrams(word_list)"
   ]
  },
  {
   "cell_type": "code",
   "execution_count": null,
   "id": "810947a7",
   "metadata": {},
   "outputs": [],
   "source": []
  }
 ],
 "metadata": {
  "kernelspec": {
   "display_name": "Python 3 (ipykernel)",
   "language": "python",
   "name": "python3"
  },
  "language_info": {
   "codemirror_mode": {
    "name": "ipython",
    "version": 3
   },
   "file_extension": ".py",
   "mimetype": "text/x-python",
   "name": "python",
   "nbconvert_exporter": "python",
   "pygments_lexer": "ipython3",
   "version": "3.9.12"
  }
 },
 "nbformat": 4,
 "nbformat_minor": 5
}
